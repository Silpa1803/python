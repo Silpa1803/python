{
 "cells": [
  {
   "cell_type": "code",
   "execution_count": null,
   "id": "c27ff143",
   "metadata": {},
   "outputs": [],
   "source": [
    "var1,var2=100,200\n",
    "\n",
    "if var1 > var2:  #  > < >= <= == !=\n",
    "    print(f\"{var1} is greater\")\n",
    "else:\n",
    "    print(f\"{var2} is greater\")\n",
    "print(\"max is \",max(var1,var2))"
   ]
  },
  {
   "cell_type": "code",
   "execution_count": null,
   "id": "2dc4cc54",
   "metadata": {},
   "outputs": [],
   "source": [
    "var1,var2,var3=100,200,300\n",
    "\n",
    "if var1 > var2 and var1 > var3:\n",
    "    print(f\"{var1} is greater\")\n",
    "elif var2 > var1 and var2 > var3:\n",
    "    print(f\"{var2} is greater\")\n",
    "else:\n",
    "    print(f\"{var3} is greater\")"
   ]
  },
  {
   "cell_type": "code",
   "execution_count": null,
   "id": "2034fd29",
   "metadata": {},
   "outputs": [],
   "source": [
    "var1,var2,var3=100,200,300\n",
    "\n",
    "if var1 > var2 > var3: # operators can be chained in python!\n",
    "    print(f\"{var1} is greater\")\n",
    "elif var2 > var1 > var3:\n",
    "    print(f\"{var2} is greater\")\n",
    "elif var3 > var2 > var1:\n",
    "    print(f\"{var3} is greater\")\n",
    "    \n",
    "print(\"max is \",max(var1,var2,var3))"
   ]
  },
  {
   "cell_type": "code",
   "execution_count": null,
   "id": "12cba46b",
   "metadata": {},
   "outputs": [],
   "source": [
    "#any(collection) all(collection)\n",
    "\n",
    "if 10<20 and 30>10 and 500>100: # C style of writing code\n",
    "    print(\"and requires all conditions to be True\")\n",
    "if 50>200 or 5>10 or 500>100: # C style of writing code\n",
    "    print(\"or requires one conditions to be True atleast\")\n",
    "if all({10<20,30>10,500>100}): # pythonic way of writing code\n",
    "    print(\"and requires all conditions to be True\")\n",
    "if any([50>200,5>10,500>100]): # pythonic way of writing code\n",
    "    print(\"or requires one conditions to be True atleast\")"
   ]
  },
  {
   "cell_type": "code",
   "execution_count": null,
   "id": "bc2d8267",
   "metadata": {},
   "outputs": [],
   "source": [
    "check=[[],{},(),0,0.0,False,None,10]\n",
    "print(any(check))"
   ]
  },
  {
   "cell_type": "code",
   "execution_count": null,
   "id": "2b33c172",
   "metadata": {},
   "outputs": [],
   "source": [
    "var1,var2,var3=100,200,300\n",
    "\n",
    "if var1 > var2:\n",
    "    if var1 > var3:\n",
    "        print(f\"{var1} is greater\")\n",
    "    else:\n",
    "        print(f\"{var3} is greater\")\n",
    "else:\n",
    "    if var2 > var3:\n",
    "        print(f\"{var2} is greater\")\n",
    "    else:\n",
    "        print(f\"{var3} is greater\")"
   ]
  },
  {
   "cell_type": "code",
   "execution_count": 3,
   "id": "0e4966c1",
   "metadata": {},
   "outputs": [
    {
     "name": "stdout",
     "output_type": "stream",
     "text": [
      "You are using list\n",
      "you are not using tuple for sure!\n"
     ]
    }
   ],
   "source": [
    "# identity operators is & is not (check datatype of objects)\n",
    "# membership operators in and not in (contents of the object)\n",
    "\n",
    "employees=[\"arjun\",\"shivani\"]\n",
    "\n",
    "if type(employees) is list:\n",
    "    print(\"You are using list\")\n",
    "if type(employees) is not tuple:\n",
    "    print(\"you are not using tuple for sure!\")"
   ]
  },
  {
   "cell_type": "code",
   "execution_count": 6,
   "id": "434acd5b",
   "metadata": {},
   "outputs": [
    {
     "name": "stdout",
     "output_type": "stream",
     "text": [
      "Please enter your version of python3.4\n",
      "You can str.format() or C style of formatting\n"
     ]
    }
   ],
   "source": [
    "python_version=[3.5,3.6,3.7,3.8,3.9,3.10]\n",
    "\n",
    "version=float(input(\"Please enter your version of python\"))\n",
    "\n",
    "if version in python_version:\n",
    "    print(f\"You can use f-strings in your version\")\n",
    "else:\n",
    "    print(f\"You can str.format() or C style of formatting\")"
   ]
  },
  {
   "cell_type": "code",
   "execution_count": 8,
   "id": "c61710e5",
   "metadata": {},
   "outputs": [
    {
     "name": "stdout",
     "output_type": "stream",
     "text": [
      "Please enter your usernamearjun\n",
      "you have guest privileges!\n"
     ]
    }
   ],
   "source": [
    "admin_users=[\"admin\",\"root\",\"Adminstrator\",\"devadatta\"]\n",
    "\n",
    "user=input(\"Please enter your username \")\n",
    "\n",
    "if user in admin_users:\n",
    "    print(\"Run admin commands!\")\n",
    "else:\n",
    "    print(\"you have guest privileges!\")"
   ]
  },
  {
   "cell_type": "code",
   "execution_count": 11,
   "id": "2e8e414b",
   "metadata": {},
   "outputs": [
    {
     "name": "stdout",
     "output_type": "stream",
     "text": [
      "Factorail is 120\n"
     ]
    }
   ],
   "source": [
    "import math\n",
    "\"\"\"\n",
    "fact=1\n",
    "num=int(input(\"Enter the number \"))\n",
    "while num > 0:\n",
    "    fact=fact*num\n",
    "    num-=1\n",
    "print(f\"Factorial is {fact}\")\n",
    "\"\"\"\n",
    "print(f\"Factorail is {math.factorial(5)}\")"
   ]
  },
  {
   "cell_type": "code",
   "execution_count": 22,
   "id": "30c20c48",
   "metadata": {},
   "outputs": [
    {
     "name": "stdout",
     "output_type": "stream",
     "text": [
      "Enter the number 6\n",
      "Not prime\n",
      "Not prime\n"
     ]
    }
   ],
   "source": [
    "import sympy\n",
    "\n",
    "i=2\n",
    "num=int(input(\"Enter the number \"))\n",
    "while num>i:\n",
    "    if num%i==0:\n",
    "        print(\"Not prime\")\n",
    "        break\n",
    "    i+=1\n",
    "if num==i:\n",
    "    print(\"Prime number\")\n",
    "    \n",
    "if sympy.isprime(num):\n",
    "    print(\"prime\")\n",
    "else:\n",
    "    print(\"Not prime\")"
   ]
  },
  {
   "cell_type": "code",
   "execution_count": 40,
   "id": "eec3e496",
   "metadata": {},
   "outputs": [
    {
     "name": "stdout",
     "output_type": "stream",
     "text": [
      "10 20 30 40 50  \n",
      "10 20 30 40 50  \n",
      "50 20 40 10 30  \n",
      "tamilnadu maharashtra karnataka  \n",
      "chennai mumbai bangalore  \n",
      "chennai is captial of tamilnadu\n",
      "mumbai is captial of maharashtra\n",
      "bangalore is captial of karnataka\n"
     ]
    }
   ],
   "source": [
    "list1=[10,20,30,40,50]\n",
    "for item in list1:\n",
    "    print(item,end=\" \")\n",
    "    \n",
    "print(\" \")\n",
    "\n",
    "tuple1=(10,20,30,40,50)\n",
    "for item in tuple1:\n",
    "    print(item,end=\" \")\n",
    "    \n",
    "print(\" \")\n",
    "\n",
    "set1={10,20,30,40,50}\n",
    "for item in set1:\n",
    "    print(item,end=\" \")\n",
    "\n",
    "print(\" \")\n",
    "\n",
    "India={\n",
    "        \"tamilnadu\":\"chennai\",\"maharashtra\":\"mumbai\",\"karnataka\":\"bangalore\"\n",
    "      }\n",
    "\n",
    "for states in India:\n",
    "    print(states,end=\" \") # keys\n",
    "print(\" \")\n",
    "for states in India:\n",
    "    print(India[states],end=\" \") # values\n",
    "print(\" \")\n",
    "for states,capitals in India.items():\n",
    "    print(f'{capitals} is captial of {states}')"
   ]
  },
  {
   "cell_type": "code",
   "execution_count": 43,
   "id": "fc6c1680",
   "metadata": {},
   "outputs": [
    {
     "name": "stdout",
     "output_type": "stream",
     "text": [
      "range(0, 10)\n"
     ]
    }
   ],
   "source": [
    "print(range(10)) # range is a builtin generator in python\n",
    "#Note: There are 2 ways to access values from generator\n",
    "# either use for loops or use next() function!\n",
    "# Note: Every generator is iterable but every iterable is not generator\n",
    "# Note: Iterables are collections (list,tuple,set,dict,etc)\n",
    "# Note: Iterators are for loop next()"
   ]
  },
  {
   "cell_type": "code",
   "execution_count": 49,
   "id": "1a395f3d",
   "metadata": {},
   "outputs": [
    {
     "name": "stdout",
     "output_type": "stream",
     "text": [
      "10 20 30 40 50  \n",
      "0 1 2 3 4 5 6 7 8 9  \n",
      "5 6 7 8 9 10 11 12 13 14 15  \n",
      "10 20 30 40 50 60 70 80 90 100  \n",
      "10 20 30 40 50 "
     ]
    }
   ],
   "source": [
    "list1=[10,20,30,40,50]\n",
    "\n",
    "for item in list1:\n",
    "    print(item,end=\" \")\n",
    "print(\" \")\n",
    "for item in range(10): # 0 1 2 ... 9 (10 is not included!)\n",
    "    print(item,end=\" \")\n",
    "print(\" \")\n",
    "for item in range(5,16): # 5,6,7... 15 (16 is not included!)\n",
    "    print(item,end=\" \")\n",
    "print(\" \")\n",
    "for item in range(10,101,10): # 10,20,30..100\n",
    "    print(item,end=\" \")\n",
    "print(\" \")\n",
    "for item in range(10,51,10):\n",
    "    print(item,end=\" \")"
   ]
  },
  {
   "cell_type": "code",
   "execution_count": 59,
   "id": "d130d1b0",
   "metadata": {},
   "outputs": [
    {
     "name": "stdout",
     "output_type": "stream",
     "text": [
      "10\n",
      "11\n",
      "12\n",
      "13\n",
      "14\n",
      "15\n"
     ]
    }
   ],
   "source": [
    "ref=iter(range(10,16))\n",
    "print(next(ref))\n",
    "print(next(ref))\n",
    "print(next(ref))\n",
    "print(next(ref))\n",
    "print(next(ref))\n",
    "print(next(ref))\n",
    "#print(next(ref)) # StopIteration Error if it goes out of bounds\n"
   ]
  },
  {
   "cell_type": "code",
   "execution_count": 60,
   "id": "0b731c71",
   "metadata": {},
   "outputs": [
    {
     "name": "stdout",
     "output_type": "stream",
     "text": [
      "['__add__', '__class__', '__class_getitem__', '__contains__', '__delattr__', '__delitem__', '__dir__', '__doc__', '__eq__', '__format__', '__ge__', '__getattribute__', '__getitem__', '__gt__', '__hash__', '__iadd__', '__imul__', '__init__', '__init_subclass__', '__iter__', '__le__', '__len__', '__lt__', '__mul__', '__ne__', '__new__', '__reduce__', '__reduce_ex__', '__repr__', '__reversed__', '__rmul__', '__setattr__', '__setitem__', '__sizeof__', '__str__', '__subclasshook__', 'append', 'clear', 'copy', 'count', 'extend', 'index', 'insert', 'pop', 'remove', 'reverse', 'sort']\n"
     ]
    }
   ],
   "source": [
    "print(dir(list))"
   ]
  },
  {
   "cell_type": "code",
   "execution_count": 73,
   "id": "bb6aa002",
   "metadata": {},
   "outputs": [
    {
     "name": "stdout",
     "output_type": "stream",
     "text": [
      "10 is @ 0 position\n",
      "20 is @ 1 position\n",
      "30 is @ 2 position\n",
      "40 is @ 3 position\n",
      "50 is @ 4 position\n",
      " \n",
      "0 10\n",
      "1 20\n",
      "2 30\n",
      "3 40\n",
      "4 50\n"
     ]
    }
   ],
   "source": [
    "list1=[10,20,30,40,50]\n",
    "\n",
    "\"\"\"\n",
    "count=0\n",
    "for item in list1:\n",
    "    if item==10:\n",
    "        break\n",
    "    count+=1\n",
    "print(f\"10 present @ {count} position\")\n",
    "\"\"\"\n",
    "#for item in range(len(list1)): # 0 1 2 \n",
    "#    print(f\"{list1[item]} is @ {item} position\")\n",
    "#print(\" \")\n",
    "# use enumerate to get the position of the element in collection\n",
    "for position,value in enumerate(list1): # enumerate returns tuple(position,element)\n",
    "    print(position,value)"
   ]
  },
  {
   "cell_type": "code",
   "execution_count": 82,
   "id": "128abf49",
   "metadata": {},
   "outputs": [
    {
     "name": "stdout",
     "output_type": "stream",
     "text": [
      "[[10, 20, 30], [40, 50, 60], [70, 80, 90]]\n",
      "list1[0][0]=10 list1[0][1]=20 list1[0][2]=30  \n",
      "list1[1][0]=40 list1[1][1]=50 list1[1][2]=60  \n",
      "list1[2][0]=70 list1[2][1]=80 list1[2][2]=90  \n",
      "90\n"
     ]
    }
   ],
   "source": [
    "list1=[[10,20,30],[40,50,60],[70,80,90]]\n",
    "\n",
    "print(list1)\n",
    "\n",
    "for i,rows in enumerate(list1):\n",
    "    for j,cols in enumerate(rows):\n",
    "        print(f\"list1[{i}][{j}]={cols}\",end=' ')\n",
    "    print(\" \")\n",
    "    \n",
    "print(list1[2][2]) # 90"
   ]
  },
  {
   "cell_type": "code",
   "execution_count": null,
   "id": "8b52fcad",
   "metadata": {},
   "outputs": [],
   "source": []
  }
 ],
 "metadata": {
  "kernelspec": {
   "display_name": "Python 3 (ipykernel)",
   "language": "python",
   "name": "python3"
  },
  "language_info": {
   "codemirror_mode": {
    "name": "ipython",
    "version": 3
   },
   "file_extension": ".py",
   "mimetype": "text/x-python",
   "name": "python",
   "nbconvert_exporter": "python",
   "pygments_lexer": "ipython3",
   "version": "3.9.7"
  }
 },
 "nbformat": 4,
 "nbformat_minor": 5
}
